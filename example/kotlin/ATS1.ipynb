{
 "cells": [
  {
   "cell_type": "markdown",
   "id": "a4ec01e7-5be1-47f4-ab30-1978dbaffd93",
   "metadata": {},
   "source": [
    "# Demo of ATS1 benchmark using Jupyter Notebook"
   ]
  },
  {
   "cell_type": "markdown",
   "id": "fbc110d8-5624-43c2-a62f-7e41c0b87764",
   "metadata": {},
   "source": [
    "This is a demo of FalCAuN on Jupyter Notebook using the [kotlin-jupyter kernel](https://github.com/Kotlin/kotlin-jupyter). This demo assumes that `jupyter` is executed with the following environmental variables.\n",
    "\n",
    "- `JAVA_HOME` (the java home for Java 11)\n",
    "- `KOTLIN_JUPYTER_JAVA_OPTS=\"-Djava.library.path=$MATLAB_HOME/bin/maca64/:$MATLAB_HOME/bin/maci64:$MATLAB_HOME/bin/glnxa64\"`"
   ]
  },
  {
   "cell_type": "markdown",
   "id": "97af5fff-778f-42bf-864d-2dfd90eb7c01",
   "metadata": {},
   "source": [
    "## Dependent packages\n",
    "\n",
    "This notebook depends on FalCAuN-core and FalCAuN-matlab"
   ]
  },
  {
   "cell_type": "code",
   "execution_count": 1,
   "id": "93f3ac88-4433-4da8-ad68-7741b3deef37",
   "metadata": {},
   "outputs": [],
   "source": [
    "@file:DependsOn(\"net.maswag.falcaun:FalCAuN-core:1.0-SNAPSHOT\")\n",
    "@file:DependsOn(\"net.maswag.falcaun:FalCAuN-matlab:1.0-SNAPSHOT\")"
   ]
  },
  {
   "cell_type": "markdown",
   "id": "bde721bb-a959-4070-a482-4767f69a746b",
   "metadata": {},
   "source": [
    "## Automatic transmission model"
   ]
  },
  {
   "cell_type": "markdown",
   "id": "da83cdb9-b7c7-454a-8577-f20d7080cec7",
   "metadata": {},
   "source": [
    "The following shows the common configuration to run the Automatic Transmission benchmark [Hoxha et al., ARCH@CPSWeek 2014].\n",
    "\n",
    "* [Hoxha et al., ARCH@CPSWeek 2014]: *Benchmarks for Temporal Logic Requirements for Automotive Systems*, ARCH@CPSWeek 2014, Bardh Hoxha, Houssam Abbas, Georgios E. Fainekos"
   ]
  },
  {
   "cell_type": "code",
   "execution_count": 2,
   "id": "6fe77b3e-195c-48de-bdb9-8562cd7c521a",
   "metadata": {},
   "outputs": [],
   "source": [
    "import net.maswag.falcaun.*\n",
    "\n",
    "val initScript = \"\"\"\n",
    "versionString = version('-release');\n",
    "oldpath = path;\n",
    "path(strcat(userpath, '/Examples/R', versionString, '/simulink_automotive/ModelingAnAutomaticTransmissionControllerExample/'), oldpath);\n",
    "\n",
    "mdl = 'Autotrans_shift';\n",
    "load_system(mdl);\n",
    "\"\"\"\n",
    "val paramNames = listOf(\"throttle\", \"brake\")\n",
    "val signalStep = 1.0\n",
    "val simulinkSimulationStep = 0.0025"
   ]
  },
  {
   "cell_type": "code",
   "execution_count": 3,
   "id": "9f042d2a-5097-4bc8-a7f9-61238d51c936",
   "metadata": {},
   "outputs": [],
   "source": [
    "// Load the automatic transmission model. This must be manually closed!!\n",
    "val sul = SimulinkSUL(initScript, paramNames, signalStep, simulinkSimulationStep)"
   ]
  },
  {
   "cell_type": "markdown",
   "id": "242efc60-523e-4516-8e2e-c0f994ff545e",
   "metadata": {},
   "source": [
    "## Definition of the STL properties"
   ]
  },
  {
   "cell_type": "code",
   "execution_count": 4,
   "id": "5098d2e3-5051-4f41-a544-eca1e9362f35",
   "metadata": {},
   "outputs": [],
   "source": [
    "import java.io.BufferedReader\n",
    "import java.io.StringReader\n",
    "\n",
    "// Define the input and output mappers\n",
    "val throttleValues = listOf(0.0, 100.0)\n",
    "val brakeValues = listOf(0.0, 325.0)\n",
    "val inputMapper = InputMapperReader.make(listOf(throttleValues, brakeValues))\n",
    "val ignoreValues = listOf(null)\n",
    "val velocityValues = listOf(20.0, 40.0, 60.0, 80.0, 100.0, 120.0, null)\n",
    "val accelerationValues = listOf(null)\n",
    "val gearValues = listOf(null)\n",
    "val outputMapperReader = OutputMapperReader(listOf(ignoreValues, accelerationValues, gearValues, velocityValues))\n",
    "outputMapperReader.parse()\n",
    "val mapperString = listOf(\"previous_max_output(0)\").joinToString(\"\\n\")\n",
    "val signalMapper: ExtendedSignalMapper = ExtendedSignalMapper.parse(BufferedReader(StringReader(mapperString)))\n",
    "assert(signalMapper.size() == 1)\n",
    "val mapper =\n",
    "    NumericSULMapper(inputMapper, outputMapperReader.largest, outputMapperReader.outputMapper, signalMapper)"
   ]
  },
  {
   "cell_type": "code",
   "execution_count": 5,
   "id": "ca812c14-7d9e-41c9-b73a-a1982a54691e",
   "metadata": {},
   "outputs": [],
   "source": [
    "import net.maswag.falcaun.TemporalLogic.STLCost;\n",
    "\n",
    "// Define the STL properties\n",
    "val stlFactory = STLFactory()\n",
    "val stlList: List<STLCost> = listOf(\n",
    "    \"[] (signal(3) < 120)\",\n",
    "    \"[] (signal(3) < 100)\",\n",
    "    \"[] (signal(3) < 80)\",\n",
    "    \"[] (signal(3) < 60)\",\n",
    "    \"[] (signal(3) < 40)\",\n",
    "    \"[] (signal(3) < 20)\"\n",
    ").map { stlString ->\n",
    "    stlFactory.parse(\n",
    "        stlString,\n",
    "        inputMapper,\n",
    "        outputMapperReader.outputMapper,\n",
    "        outputMapperReader.largest\n",
    "    )\n",
    "}.toList()\n",
    "val signalLength = 30\n",
    "val properties = AdaptiveSTLList(stlList, signalLength)"
   ]
  },
  {
   "cell_type": "markdown",
   "id": "198092b1-2c13-4991-a9bc-1d30c4f6912e",
   "metadata": {},
   "source": [
    "## Configure the verifier"
   ]
  },
  {
   "cell_type": "code",
   "execution_count": 6,
   "id": "e9602334-e85c-40c4-9758-e504aa60281e",
   "metadata": {},
   "outputs": [],
   "source": [
    "val verifier = NumericSULVerifier(sul, signalStep, properties, mapper)\n",
    "\n",
    "// Timeout must be set before adding equivalence testing\n",
    "verifier.setTimeout(5 * 60) // 5 minutes"
   ]
  },
  {
   "cell_type": "markdown",
   "id": "241e3c45-9694-43ec-a99d-6ece9edc64d6",
   "metadata": {},
   "source": [
    "### Configure the equivalence testing\n",
    "\n",
    "In this demo, we use the equivalence testing based on an genetic algorithm. The following defines the constants."
   ]
  },
  {
   "cell_type": "code",
   "execution_count": 7,
   "id": "b49be581-edca-414d-bd10-b5145f62964a",
   "metadata": {},
   "outputs": [],
   "source": [
    "// Constants for the GA-based equivalence testing\n",
    "val maxTest = 50000\n",
    "val populationSize = 200\n",
    "val crossoverProb = 0.5\n",
    "val mutationProb = 0.01\n",
    "\n",
    "verifier.addGAEQOracleAll(\n",
    "    signalLength,\n",
    "    maxTest,\n",
    "    ArgParser.GASelectionKind.Tournament,\n",
    "    populationSize,\n",
    "    crossoverProb,\n",
    "    mutationProb\n",
    ")"
   ]
  },
  {
   "cell_type": "markdown",
   "id": "69999592-66b7-4ccb-82f3-687380616758",
   "metadata": {},
   "source": [
    "## Run the verifier\n",
    "\n",
    "Then, we run the verifier. This takes some minutes."
   ]
  },
  {
   "cell_type": "code",
   "execution_count": null,
   "id": "4e37b3fe-671a-4a0b-b142-4177e95e9528",
   "metadata": {},
   "outputs": [],
   "source": [
    "val result = verifier.run()\n",
    "result"
   ]
  },
  {
   "cell_type": "code",
   "execution_count": null,
   "id": "11b0ca6f-3202-40cb-81a5-d232a38e5996",
   "metadata": {},
   "outputs": [],
   "source": [
    "import net.automatalib.word.Word;\n",
    "\n",
    "var rawOutput = mutableListOf<List<List<Double>>>()\n",
    "for (i in 0 until verifier.cexProperty.size) {\n",
    "    val dim = mutableListOf<List<Double>>()\n",
    "    for (j in 0 until verifier.cexConcreteInput[i].size()) {\n",
    "        dim.add(verifier.cexConcreteInput[i].get(j))\n",
    "    }\n",
    "    val inputWord = Word.fromList(dim)\n",
    "    val resultWord = sul.execute(inputWord).getOutputSignal()\n",
    "    rawOutput.add(resultWord.asList())\n",
    "}"
   ]
  },
  {
   "cell_type": "markdown",
   "id": "c360a511-c9c8-4359-8ddd-3e324039dce3",
   "metadata": {},
   "source": [
    "## Print the result\n",
    "\n",
    "The following prints some information about the falsified properties. Notice that 5 minutes is typically too short to falsify all the properties in ATS1, and some of them are still unfalsified."
   ]
  },
  {
   "cell_type": "code",
   "execution_count": null,
   "id": "2b86f1ab-d9e1-4f55-8047-7aaa399eeeb1",
   "metadata": {},
   "outputs": [],
   "source": [
    "// Print the result\n",
    "for (i in 0 until verifier.cexProperty.size) {\n",
    "    println(\"${verifier.cexProperty[i]} is falsified by the following counterexample)\")\n",
    "    println(\"cex concrete input: ${verifier.cexConcreteInput[i]}\")\n",
    "    println(\"cex abstract input: ${verifier.cexAbstractInput[i]}\")\n",
    "    println(\"cex concrete output: ${rawOutput[i]}\")\n",
    "    println(\"cex abstract output: ${verifier.cexOutput[i]}\")\n",
    "}"
   ]
  },
  {
   "cell_type": "markdown",
   "id": "639ddbd2-81e7-4293-8687-624d6bee8733",
   "metadata": {},
   "source": [
    "## Plot the result\n",
    "\n",
    "We can also plot the result of the falsification using `lets-plot`. We remark that we use the discrete-time semantics, and the results shown here are also rather coarsely sampled (by default, 1.0-time unit)."
   ]
  },
  {
   "cell_type": "code",
   "execution_count": null,
   "id": "568e8179-8661-4b5f-8103-68fc12994fd3",
   "metadata": {},
   "outputs": [],
   "source": [
    "%use lets-plot"
   ]
  },
  {
   "cell_type": "code",
   "execution_count": null,
   "id": "48d6c009-3362-4b02-9afc-851443352eae",
   "metadata": {},
   "outputs": [],
   "source": [
    "val bunch = GGBunch()\n",
    "    for (i in 0 until verifier.cexProperty.size) {\n",
    "        val size = verifier.cexConcreteInput[i].size()\n",
    "        val datasetIn = mapOf(\n",
    "            \"time\" to List(size) { it.toDouble() } + List(size) { it.toDouble() },\n",
    "            \"input\" to verifier.cexConcreteInput[i].dimensionGet(0) + verifier.cexConcreteInput[i].dimensionGet(1),\n",
    "            \"group\" to List(size) {\"throttle\"} + List(size) {\"brake\"}\n",
    "        )\n",
    "        bunch.addPlot(letsPlot(datasetIn) + \n",
    "                geomPath(showLegend = true) {x = \"time\"; y = \"input\"; color = \"group\"} +\n",
    "                labs(title = \"Input to falsify\" + verifier.cexProperty[i]), 0, 600 * i, 1000, 200)\n",
    "        val datasetOut = mapOf(\n",
    "            \"time\" to (0 until size).flatMap { value -> List(3) { value.toDouble() } },\n",
    "            \"output\" to rawOutput[i].flatten(),\n",
    "            \"group\" to (1..size + 1).flatMap { listOf(\"velocity\", \"rotation\", \"gear\") }.take(size * 3)\n",
    "        )\n",
    "        bunch.addPlot(letsPlot(datasetOut) + \n",
    "                geomPath(showLegend = true) {x = \"time\"; y = \"output\"; color = \"group\"} +\n",
    "                labs(title = \"Output to falsify\" + verifier.cexProperty[i]), 0, 600 * i + 200, 1000, 200)\n",
    "        val indicesToExclude = datasetOut[\"group\"]!!.withIndex().filter { it.value == \"rotation\" }.map { it.index }\n",
    "        val noRotation = datasetOut.mapValues { (key, value) ->\n",
    "            if (value is List<*>) value.withIndex().filterNot { it.index in indicesToExclude }.map { it.value }\n",
    "            else value\n",
    "        }\n",
    "        bunch.addPlot(letsPlot(noRotation) + \n",
    "                geomPath(showLegend = true) {x = \"time\"; y = \"output\"; color = \"group\"} +\n",
    "                labs(title = \"Output to falsify\" + verifier.cexProperty[i] + \" (without rotation for visualization)\"), 0, 600 * i + 400, 1000, 200)\n",
    "    }\n",
    "bunch.show()"
   ]
  },
  {
   "cell_type": "code",
   "execution_count": null,
   "id": "789b1d29-42d6-4b6f-be97-6df35d57beee",
   "metadata": {},
   "outputs": [],
   "source": []
  },
  {
   "cell_type": "markdown",
   "id": "934a7e75-cc37-4f40-a589-1d53ab7c5c49",
   "metadata": {},
   "source": [
    "## IMPORTANT!! Close MATLAB engine\n",
    "\n",
    "The following terminates the MATLAB engine. This must be executed at the end. Otherwise, the MATLAB process remains running. If you want to run the Simulink model, you can just re-initialize it."
   ]
  },
  {
   "cell_type": "code",
   "execution_count": null,
   "id": "d5facff2-6aff-4813-917d-376c1a0de58a",
   "metadata": {},
   "outputs": [],
   "source": [
    "sul.close()"
   ]
  },
  {
   "cell_type": "code",
   "execution_count": null,
   "id": "0a0c9b71-b81c-4dc5-a966-b4cf58cdec96",
   "metadata": {},
   "outputs": [],
   "source": []
  }
 ],
 "metadata": {
  "kernelspec": {
   "display_name": "Kotlin",
   "language": "kotlin",
   "name": "kotlin"
  },
  "language_info": {
   "codemirror_mode": "text/x-kotlin",
   "file_extension": ".kt",
   "mimetype": "text/x-kotlin",
   "name": "kotlin",
   "nbconvert_exporter": "",
   "pygments_lexer": "kotlin",
   "version": "1.9.10"
  }
 },
 "nbformat": 4,
 "nbformat_minor": 5
}
