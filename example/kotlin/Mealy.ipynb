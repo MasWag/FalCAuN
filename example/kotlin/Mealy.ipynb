{
 "cells": [
  {
   "cell_type": "markdown",
   "id": "beb3a187-ce7a-4fff-bee7-b4254cdf9141",
   "metadata": {},
   "source": [
    "# Demo of Black-box checking of a Mealy machine\n",
    "\n",
    "This is a demo of FalCAuN on Jupyter Notebook using the [kotlin-jupyter kernel](https://github.com/Kotlin/kotlin-jupyter). This demo assumes that `jupyter` is executed with the following environmental variables.\n",
    "\n",
    "- `JAVA_HOME` (the java home for Java 17)"
   ]
  },
  {
   "cell_type": "markdown",
   "id": "8ae96198-a471-47b1-9c95-82afed6a75fd",
   "metadata": {},
   "source": [
    "## Dependent packages and logger config\n",
    "\n",
    "This notebook depends on FalCAuN-core."
   ]
  },
  {
   "cell_type": "code",
   "execution_count": 1,
   "id": "94e361f2-a4fa-4cae-b174-60f0dec9737b",
   "metadata": {},
   "outputs": [],
   "source": [
    "@file:DependsOn(\"net.maswag.falcaun:FalCAuN-core:1.0-SNAPSHOT\")"
   ]
  },
  {
   "cell_type": "code",
   "execution_count": null,
   "id": "5128123e-fea4-4676-889b-baa9602d4ab1",
   "metadata": {},
   "outputs": [],
   "source": [
    "import ch.qos.logback.classic.Level\n",
    "import ch.qos.logback.classic.Logger\n",
    "import de.learnlib.driver.simulator.MealySimulatorSUL\n",
    "import de.learnlib.oracle.membership.SULOracle\n",
    "import net.automatalib.alphabet.Alphabets\n",
    "import net.automatalib.automaton.transducer.CompactMealy\n",
    "import net.automatalib.modelchecker.ltsmin.AbstractLTSmin\n",
    "import net.automatalib.modelchecker.ltsmin.LTSminVersion\n",
    "import net.automatalib.util.automaton.builder.AutomatonBuilders\n",
    "import net.automatalib.visualization.Visualization\n",
    "import net.maswag.falcaun.*\n",
    "import net.maswag.falcaun.parser.LTLFactory\n",
    "import org.slf4j.LoggerFactory\n",
    "import java.util.*\n",
    "\n",
    "// The following surprises the debug log\n",
    "var updaterLogger = LoggerFactory.getLogger(AbstractAdaptiveSTLUpdater::class.java) as Logger\n",
    "updaterLogger.level = Level.INFO\n",
    "var updateListLogger = LoggerFactory.getLogger(AdaptiveSTLList::class.java) as Logger\n",
    "updateListLogger.level = Level.INFO\n",
    "var LTSminVersionLogger = LoggerFactory.getLogger(LTSminVersion::class.java) as Logger\n",
    "LTSminVersionLogger.level = Level.INFO\n",
    "var AbstractLTSminLogger = LoggerFactory.getLogger(AbstractLTSmin::class.java) as Logger\n",
    "AbstractLTSminLogger.level = Level.INFO\n",
    "var EQSearchProblemLogger = LoggerFactory.getLogger(EQSearchProblem::class.java) as Logger\n",
    "EQSearchProblemLogger.level = Level.INFO\n",
    "var SimulinkSteadyStateGeneticAlgorithmLogger = LoggerFactory.getLogger(EQSteadyStateGeneticAlgorithm::class.java) as Logger\n",
    "SimulinkSteadyStateGeneticAlgorithmLogger.level = Level.INFO"
   ]
  },
  {
   "cell_type": "markdown",
   "id": "7c693cf0-b9b3-4768-97bd-36a1edbe6633",
   "metadata": {},
   "source": [
    "## The target Mealy machine"
   ]
  },
  {
   "cell_type": "code",
   "execution_count": 3,
   "id": "411dfb09-eeea-4412-89a0-5f96fc45c8e9",
   "metadata": {},
   "outputs": [],
   "source": [
    "// Define the target Mealy machine\n",
    "/// input alphabet contains strings \"a\" and \"b\"\n",
    "val sigma = Alphabets.fromList(listOf(\"a\", \"b\"))\n",
    "/// output alphabet contains strings \"p\" and \"q\"\n",
    "val gamma = Alphabets.fromList(listOf(\"p\", \"q\"))\n",
    "/// create Mealy machine\n",
    "// @formatter:off\n",
    "val target: CompactMealy<String, String> = AutomatonBuilders.newMealy<String, String>(sigma)\n",
    "    .withInitial(\"q0\")\n",
    "    .from(\"q0\")\n",
    "        .on(\"a\").withOutput(\"p\").to(\"q1\")\n",
    "        .on(\"b\").withOutput(\"q\").to(\"q2\")\n",
    "    .from(\"q1\")\n",
    "        .on(\"a\").withOutput(\"q\").to(\"q0\")\n",
    "        .on(\"b\").withOutput(\"p\").to(\"q3\")\n",
    "    .from(\"q2\")\n",
    "        .on(\"a\").withOutput(\"p\").to(\"q3\")\n",
    "        .on(\"b\").withOutput(\"p\").to(\"q0\")\n",
    "    .from(\"q3\")\n",
    "        .on(\"a\").withOutput(\"q\").to(\"q2\")\n",
    "        .on(\"b\").withOutput(\"q\").to(\"q1\")\n",
    "    .create()\n",
    "// @formatter:on"
   ]
  },
  {
   "cell_type": "code",
   "execution_count": 4,
   "id": "41c09c4a-8c35-45c8-9a34-13bb93f4b335",
   "metadata": {},
   "outputs": [],
   "source": [
    "// This shows the target Mealy machine in a new window.\n",
    "Visualization.visualize(target.transitionGraphView(sigma), false)"
   ]
  },
  {
   "cell_type": "markdown",
   "id": "466a2d3b-8018-4d92-82b6-bbaa1d9b7c2f",
   "metadata": {},
   "source": [
    "## The LTL properties"
   ]
  },
  {
   "cell_type": "code",
   "execution_count": 5,
   "id": "68588e8b-01a6-4bb1-bdf3-c6f0da6027c1",
   "metadata": {},
   "outputs": [],
   "source": [
    "// Define LTL properties\n",
    "val ltlFactory = LTLFactory()\n",
    "val ltlList = listOf(\n",
    "        \"[] (output == p -> X (output == q))\", // This does not hold\n",
    "        \"[] ((input == a && output == p && (X input == a)) -> (X output == q))\", // This holds\n",
    ").map { stlString ->\n",
    "    ltlFactory.parse(stlString)\n",
    "}.toList()\n",
    "val signalLength = 10 // We believe that the traces of length 10 are enough to verify/falsify the properties\n",
    "val properties = AdaptiveSTLList(ltlList, signalLength)"
   ]
  },
  {
   "cell_type": "markdown",
   "id": "b7afb79d-6098-4623-8c93-8ef918582a64",
   "metadata": {},
   "source": [
    "## The LTL properties"
   ]
  },
  {
   "cell_type": "code",
   "execution_count": 6,
   "id": "e82bc583-eb39-4d52-a824-a21b05ac4cfa",
   "metadata": {},
   "outputs": [],
   "source": [
    "// Define the SUL and oracle\n",
    "val sul = MealySimulatorSUL(target)\n",
    "val oracle = SULOracle(sul)\n",
    "properties.setMemOracle(oracle)\n",
    "\n",
    "// Configure and run the verifier\n",
    "val verifier = BlackBoxVerifier(oracle, sul, properties, sigma)\n",
    "// Timeout must be set before adding equivalence testing\n",
    "verifier.setTimeout(5 * 60) // 5 minutes\n",
    "verifier.addRandomWordEQOracle(\n",
    "        1, // The minimum length of the random word\n",
    "        10, // The maximum length of the random word\n",
    "        1000, // The maximum number of tests\n",
    "        Random(),\n",
    "        1\n",
    ")\n",
    "val result = verifier.run()"
   ]
  },
  {
   "cell_type": "markdown",
   "id": "95507ed4-2bfa-401e-8d60-b769c83307bc",
   "metadata": {},
   "source": [
    "## Show the learned Mealy machine"
   ]
  },
  {
   "cell_type": "code",
   "execution_count": 7,
   "id": "9a32119f-54ce-452b-9dc2-e4e7b0fdad24",
   "metadata": {},
   "outputs": [],
   "source": [
    "// This shows the learned Mealy machine in a new window. The execution is blocked until the window is closed\n",
    "verifier.visualizeLearnedMealy()"
   ]
  },
  {
   "cell_type": "markdown",
   "id": "d7444644-5c57-4369-a03d-b96b5fc8e6d4",
   "metadata": {},
   "source": [
    "## Print the result"
   ]
  },
  {
   "cell_type": "code",
   "execution_count": 8,
   "id": "88575f82-d808-403a-bdf9-b68a16e72342",
   "metadata": {},
   "outputs": [
    {
     "name": "stdout",
     "output_type": "stream",
     "text": [
      "Some properties are falsified\n",
      "[] ( ( output == \"p\"  ) -> ( X ( output == \"q\"  ) ) ) is falsified by the following counterexample:\n",
      "cex concrete input: a b\n",
      "cex output: p p\n"
     ]
    }
   ],
   "source": [
    "if (result) {\n",
    "    println(\"All the properties are likely satisfied\")\n",
    "} else {\n",
    "    println(\"Some properties are falsified\")\n",
    "    for (i in 0 until verifier.cexProperty.size) {\n",
    "        println(\"${verifier.cexProperty[i]} is falsified by the following counterexample:\")\n",
    "        println(\"cex concrete input: ${verifier.cexInput[i]}\")\n",
    "        println(\"cex output: ${verifier.cexOutput[i]}\")\n",
    "    }\n",
    "}"
   ]
  }
 ],
 "metadata": {
  "kernelspec": {
   "display_name": "Kotlin",
   "language": "kotlin",
   "name": "kotlin"
  },
  "language_info": {
   "codemirror_mode": "text/x-kotlin",
   "file_extension": ".kt",
   "mimetype": "text/x-kotlin",
   "name": "kotlin",
   "nbconvert_exporter": "",
   "pygments_lexer": "kotlin",
   "version": "1.9.10"
  }
 },
 "nbformat": 4,
 "nbformat_minor": 5
}
