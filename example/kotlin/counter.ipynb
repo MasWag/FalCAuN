{
 "cells": [
  {
   "cell_type": "markdown",
   "id": "beb3a187-ce7a-4fff-bee7-b4254cdf9141",
   "metadata": {},
   "source": [
    "# Demo of Black-box checking of a black-box numeric system\n",
    "\n",
    "This is a demo of FalCAuN on Jupyter Notebook using the [kotlin-jupyter kernel](https://github.com/Kotlin/kotlin-jupyter). This demo assumes that `jupyter` is executed with the following environmental variables.\n",
    "\n",
    "- `JAVA_HOME` (the java home for Java 17)"
   ]
  },
  {
   "cell_type": "markdown",
   "id": "8ae96198-a471-47b1-9c95-82afed6a75fd",
   "metadata": {},
   "source": [
    "## Dependent packages and logger config\n",
    "\n",
    "This notebook depends on FalCAuN-core."
   ]
  },
  {
   "cell_type": "code",
   "execution_count": 1,
   "id": "94e361f2-a4fa-4cae-b174-60f0dec9737b",
   "metadata": {},
   "outputs": [],
   "source": [
    "@file:DependsOn(\"net.maswag.falcaun:FalCAuN-core:1.0-SNAPSHOT\")"
   ]
  },
  {
   "cell_type": "code",
   "execution_count": null,
   "id": "5128123e-fea4-4676-889b-baa9602d4ab1",
   "metadata": {},
   "outputs": [],
   "source": [
    "import ch.qos.logback.classic.Level\n",
    "import ch.qos.logback.classic.Logger\n",
    "import de.learnlib.driver.simulator.MealySimulatorSUL\n",
    "import de.learnlib.oracle.membership.SULOracle\n",
    "import de.learnlib.sul.SUL\n",
    "import net.automatalib.alphabet.Alphabets\n",
    "import net.automatalib.automaton.transducer.CompactMealy\n",
    "import net.automatalib.modelchecker.ltsmin.AbstractLTSmin\n",
    "import net.automatalib.modelchecker.ltsmin.LTSminVersion\n",
    "import net.automatalib.util.automaton.builder.AutomatonBuilders\n",
    "import net.automatalib.visualization.Visualization\n",
    "import net.maswag.falcaun.*\n",
    "import net.maswag.falcaun.parser.STLFactory\n",
    "import org.slf4j.LoggerFactory\n",
    "import java.util.*\n",
    "\n",
    "// The following surprises the debug log\n",
    "var updaterLogger = LoggerFactory.getLogger(AbstractAdaptiveSTLUpdater::class.java) as Logger\n",
    "updaterLogger.level = Level.INFO\n",
    "var updateListLogger = LoggerFactory.getLogger(AdaptiveSTLList::class.java) as Logger\n",
    "updateListLogger.level = Level.INFO\n",
    "var LTSminVersionLogger = LoggerFactory.getLogger(LTSminVersion::class.java) as Logger\n",
    "LTSminVersionLogger.level = Level.INFO\n",
    "var AbstractLTSminLogger = LoggerFactory.getLogger(AbstractLTSmin::class.java) as Logger\n",
    "AbstractLTSminLogger.level = Level.INFO\n",
    "var EQSearchProblemLogger = LoggerFactory.getLogger(EQSearchProblem::class.java) as Logger\n",
    "EQSearchProblemLogger.level = Level.INFO\n",
    "var SimulinkSteadyStateGeneticAlgorithmLogger = LoggerFactory.getLogger(EQSteadyStateGeneticAlgorithm::class.java) as Logger\n",
    "SimulinkSteadyStateGeneticAlgorithmLogger.level = Level.INFO"
   ]
  },
  {
   "cell_type": "markdown",
   "id": "7c693cf0-b9b3-4768-97bd-36a1edbe6633",
   "metadata": {},
   "source": [
    "## The target system\n",
    "\n",
    "Here, we define the target system, a system with a counter. The counter is incremented if a positive value is given. Otherwise, the counter is decremented."
   ]
  },
  {
   "cell_type": "code",
   "execution_count": 3,
   "id": "411dfb09-eeea-4412-89a0-5f96fc45c8e9",
   "metadata": {},
   "outputs": [],
   "source": [
    "import kotlin.collections.List\n",
    "import net.automatalib.word.Word\n",
    "\n",
    "// Define the target system\n",
    "val target = object : NumericSUL {\n",
    "    var counter = 0.0\n",
    "    var numReset = 0\n",
    "    override fun pre() {\n",
    "        counter = 0.0\n",
    "        numReset++\n",
    "    }\n",
    "    override fun step(input: List<Double>) : IOSignalPiece<List<Double>> {\n",
    "        assert (input.size == 1)\n",
    "        if (input[0] > 0) {\n",
    "            counter++\n",
    "        } else {\n",
    "            counter--\n",
    "        }\n",
    "        return IOSignalPiece(input, arrayListOf(counter))\n",
    "    }\n",
    "    override fun clear() {}\n",
    "    override fun close() {}\n",
    "    override fun getCounter(): Int {\n",
    "        return numReset\n",
    "    }\n",
    "    override fun getSimulationTimeSecond(): Double {\n",
    "        return 0.0\n",
    "    }\n",
    "}"
   ]
  },
  {
   "cell_type": "markdown",
   "id": "06c8ad3e-b7eb-4a5e-8210-49f575dc0d7f",
   "metadata": {},
   "source": [
    "The following shows that the behavior of `target` is as expected"
   ]
  },
  {
   "cell_type": "code",
   "execution_count": 4,
   "id": "41c09c4a-8c35-45c8-9a34-13bb93f4b335",
   "metadata": {},
   "outputs": [
    {
     "data": {
      "text/plain": [
       "[-1.0]"
      ]
     },
     "execution_count": 4,
     "metadata": {},
     "output_type": "execute_result"
    }
   ],
   "source": [
    "target.pre()\n",
    "target.step(listOf(-1.0)).getOutputSignal()"
   ]
  },
  {
   "cell_type": "code",
   "execution_count": 5,
   "id": "3a512e67-b4f3-4405-b933-727bf07a0e77",
   "metadata": {},
   "outputs": [
    {
     "data": {
      "text/plain": [
       "[-2.0]"
      ]
     },
     "execution_count": 5,
     "metadata": {},
     "output_type": "execute_result"
    }
   ],
   "source": [
    "target.step(listOf(-2.0)).getOutputSignal()"
   ]
  },
  {
   "cell_type": "code",
   "execution_count": 6,
   "id": "3aa05771-0c6c-4366-9ae8-76f38fa5d0d3",
   "metadata": {},
   "outputs": [
    {
     "data": {
      "text/plain": [
       "[-1.0]"
      ]
     },
     "execution_count": 6,
     "metadata": {},
     "output_type": "execute_result"
    }
   ],
   "source": [
    "target.step(listOf(3.0)).getOutputSignal()"
   ]
  },
  {
   "cell_type": "code",
   "execution_count": 7,
   "id": "5ed9e9c1-5bf4-4ba8-9809-fac5b9811b60",
   "metadata": {},
   "outputs": [
    {
     "data": {
      "text/plain": [
       "[0.0]"
      ]
     },
     "execution_count": 7,
     "metadata": {},
     "output_type": "execute_result"
    }
   ],
   "source": [
    "target.step(listOf(1.0)).getOutputSignal()"
   ]
  },
  {
   "cell_type": "code",
   "execution_count": 8,
   "id": "38dd09d4-804f-4d78-910c-40a3ff2d1392",
   "metadata": {},
   "outputs": [],
   "source": [
    "target.post()"
   ]
  },
  {
   "cell_type": "markdown",
   "id": "466a2d3b-8018-4d92-82b6-bbaa1d9b7c2f",
   "metadata": {},
   "source": [
    "## The STL properties\n",
    "\n",
    "Here, we define the STL properties to be tested. \n",
    "\n",
    "First, we define the mapper defining the functions $\\gamma_I\\colon I_A \\to I_C$ and $\\alpha_O\\colon O_C \\to O_A$. $\\gamma_I$ maps an abstract input with string representation to a concrete alphabet with numeric representation. $\\alpha_O$ maps a concrete output with numeric representation to an abstract alphabet with string representation. Moreover, FalCAuN can define \"pseudo outputs\" by applying some operations to the actual inputs and outputs.\n",
    "\n",
    "In this example, the abstract input is $I_A = \\{a, b\\}$ with $\\gamma_I(a) = -1.0$ and $\\gamma_I(b) = 1.0$.\n",
    "The abstract output is $O_A = \\{aa, ab\\}$ such that $\\alpha_O(c) = aa \\iff |c| \\bmod 2 = 0$. Notice that the second dimension of the outputs is for the pseudo output showing $|c| \\bmod 2$."
   ]
  },
  {
   "cell_type": "code",
   "execution_count": 9,
   "id": "c45a7502-a24f-4b25-a0ad-5aefac079e0e",
   "metadata": {},
   "outputs": [],
   "source": [
    "import java.io.BufferedReader\n",
    "import java.io.StringReader\n",
    "\n",
    "// Define the input and output mappers\n",
    "val inputValues = listOf(-1.0, 1.0)\n",
    "val inputMapper = InputMapperReader.make(listOf(inputValues))\n",
    "val ignoreValues = listOf(null)\n",
    "val mod2Values = listOf(0.0, 1.0, null)\n",
    "val outputMapperReader = OutputMapperReader(listOf(ignoreValues, mod2Values))\n",
    "outputMapperReader.parse()\n",
    "// We define the signal mapper such that abs(output(0)) mod 2 is mapped to output(1).\n",
    "// We need abs because in Java, -1 % 2 == -1.\n",
    "val mapperString = listOf(\"abs(output(0)) mod 2\").joinToString(\"\\n\")\n",
    "val signalMapper = SimpleSignalMapper.parse(BufferedReader(StringReader(mapperString)))\n",
    "assert(signalMapper.size() == 1)\n",
    "val mapper =\n",
    "    NumericSULMapper(inputMapper, outputMapperReader.largest, outputMapperReader.outputMapper, signalMapper)"
   ]
  },
  {
   "cell_type": "markdown",
   "id": "a4c8b705-1124-4474-8102-bb5c3633a3c8",
   "metadata": {},
   "source": [
    "The following defines the STL formulas."
   ]
  },
  {
   "cell_type": "code",
   "execution_count": 10,
   "id": "68588e8b-01a6-4bb1-bdf3-c6f0da6027c1",
   "metadata": {},
   "outputs": [],
   "source": [
    "// Define STL properties\n",
    "val stlFactory = STLFactory()\n",
    "// Note: the given formulas must be safety\n",
    "val stlList = listOf(\n",
    "        \"[] (output(1) == 0 -> X output(1) == 1)\", // This holds\n",
    "        \"[] <> output(1) == 0\", // This holds\n",
    "        \"[] <> output(1) == 1\", // This holds\n",
    "        \"<>_[0,10] [] output(1) == 0\", // This does not hold\n",
    "        \"<>_[0,10] [] output(1) == 1\", // This does not hold\n",
    "        \"[] (output(1) == 0)\", // This does not hold\n",
    "        \"[] (output(1) == 1)\", // This does not hold\n",
    "        \"<>_[0,10] (output(1) == 0 && X output(1) == 0)\", // This does not hold\n",
    "        \"<>_[0,10] (output(1) == 1 && X output(1) == 1)\", // This does not hold\n",
    ").map { stlString ->\n",
    "    stlFactory.parse(stlString, inputMapper, outputMapperReader.outputMapper, outputMapperReader.largest)\n",
    "}.toList()\n",
    "val signalLength = 10 // We believe that the traces of length 10 are enough to verify/falsify the properties\n",
    "val properties = AdaptiveSTLList(stlList, signalLength)"
   ]
  },
  {
   "cell_type": "markdown",
   "id": "b7afb79d-6098-4623-8c93-8ef918582a64",
   "metadata": {},
   "source": [
    "## Run black-box checking"
   ]
  },
  {
   "cell_type": "code",
   "execution_count": 11,
   "id": "e82bc583-eb39-4d52-a824-a21b05ac4cfa",
   "metadata": {},
   "outputs": [
    {
     "data": {
      "text/plain": [
       "false"
      ]
     },
     "execution_count": 11,
     "metadata": {},
     "output_type": "execute_result"
    }
   ],
   "source": [
    "val signalStep = 1.0\n",
    "// Configure and run the verifier\n",
    "val verifier = NumericSULVerifier(target, signalStep, properties, mapper)\n",
    "// Timeout must be set before adding equivalence testing\n",
    "verifier.setTimeout(5 * 60) // 5 minutes\n",
    "verifier.addRandomWordEQOracle(\n",
    "        1, // The minimum length of the random word\n",
    "        10, // The maximum length of the random word\n",
    "        1000, // The maximum number of tests\n",
    "        Random(),\n",
    "        1\n",
    ")\n",
    "val result = verifier.run()\n",
    "result"
   ]
  },
  {
   "cell_type": "markdown",
   "id": "95507ed4-2bfa-401e-8d60-b769c83307bc",
   "metadata": {},
   "source": [
    "## Render the learned Mealy machine\n",
    "\n",
    "The learned Mealy machine can be rendered with Graphviz"
   ]
  },
  {
   "cell_type": "code",
   "execution_count": 12,
   "id": "dfd90710-8b3d-419e-8e0e-58420344c121",
   "metadata": {},
   "outputs": [],
   "source": [
    "import java.io.StringWriter\n",
    "\n",
    "val dotWriter = StringWriter()\n",
    "verifier.writeDOTLearnedMealy(dotWriter)"
   ]
  },
  {
   "cell_type": "code",
   "execution_count": 13,
   "id": "9a32119f-54ce-452b-9dc2-e4e7b0fdad24",
   "metadata": {},
   "outputs": [],
   "source": [
    "@file:DependsOn(\"guru.nidi:graphviz-java:0.18.1\")\n",
    "\n",
    "import guru.nidi.graphviz.model.Factory.*\n",
    "import guru.nidi.graphviz.*\n",
    "import guru.nidi.graphviz.parse.*\n",
    "import guru.nidi.graphviz.engine.*\n",
    "import guru.nidi.graphviz.attribute.*"
   ]
  },
  {
   "cell_type": "code",
   "execution_count": 14,
   "id": "b3d0e4d4-1b7f-4b50-9a7f-51cef9373f45",
   "metadata": {},
   "outputs": [
    {
     "data": {
      "image/png": "[encoded data removed]",
      "text/plain": [
       "class java.awt.image.BufferedImage: 160x175 px"
      ]
     },
     "execution_count": 14,
     "metadata": {},
     "output_type": "execute_result"
    }
   ],
   "source": [
    "val graph = Parser().read(dotWriter.toString())\n",
    "Graphviz.fromGraph(graph).render(Format.SVG).toImage()"
   ]
  },
  {
   "cell_type": "markdown",
   "id": "d7444644-5c57-4369-a03d-b96b5fc8e6d4",
   "metadata": {},
   "source": [
    "## Print the result"
   ]
  },
  {
   "cell_type": "code",
   "execution_count": 15,
   "id": "da7491ad-2856-4bd7-aa2e-bc56cf0f69ec",
   "metadata": {},
   "outputs": [],
   "source": [
    "import net.automatalib.word.Word;\n",
    "\n",
    "var rawSignals = mutableListOf<IOSignal<List<Double>>>()\n",
    "for (i in 0 until verifier.cexProperty.size) {\n",
    "    val dim = mutableListOf<List<Double>>()\n",
    "    for (j in 0 until verifier.cexConcreteInput[i].size()) {\n",
    "        dim.add(verifier.cexConcreteInput[i].get(j))\n",
    "    }\n",
    "    val inputWord = Word.fromList(dim)\n",
    "    rawSignals.add(target.execute(inputWord))\n",
    "}"
   ]
  },
  {
   "cell_type": "code",
   "execution_count": 16,
   "id": "88575f82-d808-403a-bdf9-b68a16e72342",
   "metadata": {},
   "outputs": [
    {
     "name": "stdout",
     "output_type": "stream",
     "text": [
      " <>_[0, 10] ( [] ( output(1) == 0.000000 ) ) is falsified by the following counterexample:\n",
      "cex abstract input: b b b b b b b b b b b\n",
      "cex abstract output: ab aa ab aa ab aa ab aa ab aa ab\n",
      "cex concrete input: [1.0] [1.0] [1.0] [1.0] [1.0] [1.0] [1.0] [1.0] [1.0] [1.0] [1.0]\n",
      "cex concrete output: [1.0] [2.0] [3.0] [4.0] [5.0] [6.0] [7.0] [8.0] [9.0] [10.0] [11.0]\n",
      " <>_[0, 10] ( [] ( output(1) == 1.000000 ) ) is falsified by the following counterexample:\n",
      "cex abstract input: b b b b b b b b b b b b\n",
      "cex abstract output: ab aa ab aa ab aa ab aa ab aa ab aa\n",
      "cex concrete input: [1.0] [1.0] [1.0] [1.0] [1.0] [1.0] [1.0] [1.0] [1.0] [1.0] [1.0] [1.0]\n",
      "cex concrete output: [1.0] [2.0] [3.0] [4.0] [5.0] [6.0] [7.0] [8.0] [9.0] [10.0] [11.0] [12.0]\n",
      "[] ( output(1) == 0.000000 ) is falsified by the following counterexample:\n",
      "cex abstract input: b\n",
      "cex abstract output: ab\n",
      "cex concrete input: [1.0]\n",
      "cex concrete output: [1.0]\n",
      "[] ( output(1) == 1.000000 ) is falsified by the following counterexample:\n",
      "cex abstract input: b b\n",
      "cex abstract output: ab aa\n",
      "cex concrete input: [1.0] [1.0]\n",
      "cex concrete output: [1.0] [2.0]\n",
      " <>_[0, 10] ( output(1) == 0.000000 && X ( output(1) == 0.000000 ) ) is falsified by the following counterexample:\n",
      "cex abstract input: b b b b b b b b b b b\n",
      "cex abstract output: ab aa ab aa ab aa ab aa ab aa ab\n",
      "cex concrete input: [1.0] [1.0] [1.0] [1.0] [1.0] [1.0] [1.0] [1.0] [1.0] [1.0] [1.0]\n",
      "cex concrete output: [1.0] [2.0] [3.0] [4.0] [5.0] [6.0] [7.0] [8.0] [9.0] [10.0] [11.0]\n",
      " <>_[0, 10] ( output(1) == 1.000000 && X ( output(1) == 1.000000 ) ) is falsified by the following counterexample:\n",
      "cex abstract input: b b b b b b b b b b b b\n",
      "cex abstract output: ab aa ab aa ab aa ab aa ab aa ab aa\n",
      "cex concrete input: [1.0] [1.0] [1.0] [1.0] [1.0] [1.0] [1.0] [1.0] [1.0] [1.0] [1.0] [1.0]\n",
      "cex concrete output: [1.0] [2.0] [3.0] [4.0] [5.0] [6.0] [7.0] [8.0] [9.0] [10.0] [11.0] [12.0]\n"
     ]
    }
   ],
   "source": [
    "if (result) {\n",
    "    println(\"All the properties are likely satisfied\")\n",
    "} else {\n",
    "    for (i in 0 until verifier.cexProperty.size) {\n",
    "        println(\"${verifier.cexProperty[i]} is falsified by the following counterexample:\")\n",
    "        println(\"cex abstract input: ${verifier.cexAbstractInput[i]}\")\n",
    "        println(\"cex abstract output: ${verifier.cexOutput[i]}\")\n",
    "        println(\"cex concrete input: ${rawSignals[i].inputSignal}\")\n",
    "        println(\"cex concrete output: ${rawSignals[i].outputSignal}\")\n",
    "    }\n",
    "}"
   ]
  },
  {
   "cell_type": "code",
   "execution_count": null,
   "id": "22a20921-f938-4884-9032-8775cb014d3a",
   "metadata": {},
   "outputs": [],
   "source": []
  }
 ],
 "metadata": {
  "kernelspec": {
   "display_name": "Kotlin",
   "language": "kotlin",
   "name": "kotlin"
  },
  "language_info": {
   "codemirror_mode": "text/x-kotlin",
   "file_extension": ".kt",
   "mimetype": "text/x-kotlin",
   "name": "kotlin",
   "nbconvert_exporter": "",
   "pygments_lexer": "kotlin",
   "version": "1.9.10"
  }
 },
 "nbformat": 4,
 "nbformat_minor": 5
}
